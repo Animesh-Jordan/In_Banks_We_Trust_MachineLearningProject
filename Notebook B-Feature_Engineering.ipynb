{
 "cells": [
  {
   "cell_type": "markdown",
   "metadata": {},
   "source": [
    "### Notebook B\n",
    "\n",
    "# In Banks We Trust:\n",
    "\n",
    "## Predicting the Propensity to Avail Formal Financial Services in the Philippines\n",
    "\n",
    "### Feature Engineering the Target Variable"
   ]
  },
  {
   "cell_type": "markdown",
   "metadata": {},
   "source": [
    "This notebook discusses how the target variable was extracted from the Consumer Finance Survey (CFS) dataset. The target variable was identified in two steps. \n",
    "\n",
    "Step 1: Identifying respondents who have **no deposit account and answered \"do not have enough money\"** as reason for having no account;\n",
    "\n",
    "Step 2: Among respondents identified in step 1, their response to the question **\"If you have surplus money, where will you put the money?\"** was stratified."
   ]
  },
  {
   "cell_type": "code",
   "execution_count": 8,
   "metadata": {
    "ExecuteTime": {
     "end_time": "2019-08-20T13:00:28.850992Z",
     "start_time": "2019-08-20T13:00:28.231314Z"
    }
   },
   "outputs": [],
   "source": [
    "import numpy as np\n",
    "import pandas as pd"
   ]
  },
  {
   "cell_type": "markdown",
   "metadata": {},
   "source": [
    "## Derived Feature 1: \"Reason_no_acct\""
   ]
  },
  {
   "cell_type": "markdown",
   "metadata": {},
   "source": [
    "Respondents to the CFS were asked if any member of their household holds a deposit account. From those who have deposit account, they were also asked \"what is the main reason why your family does not have an account/investment?\". \n",
    "\n",
    "- The following options were given to the respondents to choose from:"
   ]
  },
  {
   "attachments": {
    "Capture.PNG": {
     "image/png": "[encoded data removed]"
    }
   },
   "cell_type": "markdown",
   "metadata": {},
   "source": [
    "![Capture.PNG](attachment:Capture.PNG)"
   ]
  },
  {
   "cell_type": "code",
   "execution_count": 9,
   "metadata": {
    "ExecuteTime": {
     "end_time": "2019-08-20T15:27:03.946509Z",
     "start_time": "2019-08-20T15:27:00.842630Z"
    }
   },
   "outputs": [],
   "source": [
    "raw2 = pd.read_excel('New Features.xlsx', sheet_name='Reason_no_acct', na_values='')"
   ]
  },
  {
   "cell_type": "code",
   "execution_count": 10,
   "metadata": {
    "ExecuteTime": {
     "end_time": "2019-08-20T13:02:44.186531Z",
     "start_time": "2019-08-20T13:02:44.176562Z"
    }
   },
   "outputs": [
    {
     "data": {
      "text/plain": [
       "{0: 'None',\n",
       " 1: 'Minimum balance is too high',\n",
       " 2: 'Do not like to deal with banks',\n",
       " 10: 'Do not like to deal with banks',\n",
       " 17: 'Do not like to deal with banks',\n",
       " 3: 'Service charges are too high',\n",
       " 4: 'Bank is far',\n",
       " 5: 'Do not have enough money',\n",
       " 9: 'Do not have enough money',\n",
       " 14: 'Do not have enough money',\n",
       " 16: 'Do not have enough money',\n",
       " 18: 'Do not have enough money',\n",
       " 19: 'Do not have enough money',\n",
       " 6: 'Do not need a bank account',\n",
       " 7: 'Do not trust bank',\n",
       " 11: 'Do not trust bank',\n",
       " 12: 'Do not trust bank',\n",
       " 8: 'Cannot manage bank account',\n",
       " 13: 'Gains in banks are low',\n",
       " 15: 'Gains in banks are low',\n",
       " 20: 'Gains in banks are low'}"
      ]
     },
     "execution_count": 10,
     "metadata": {},
     "output_type": "execute_result"
    }
   ],
   "source": [
    "# create a dictionary with the new classes as keys and old classes as items\n",
    "classes = {'None':[0],\n",
    "           'Minimum balance is too high':[1],\n",
    "           'Do not like to deal with banks':[2,10,17],\n",
    "           'Service charges are too high':[3],\n",
    "           'Bank is far':[4],\n",
    "           'Do not have enough money':[5,9,14,16,18,19],\n",
    "           'Do not need a bank account':[6],\n",
    "           'Do not trust bank':[7,11,12],\n",
    "           'Cannot manage bank account':[8],\n",
    "           'Gains in banks are low':[13,15,20]}\n",
    "\n",
    "# unpack the old classes and reverse the dictionary\n",
    "mapping = {v: k for k,vv in classes.items() for v in vv}\n",
    "mapping"
   ]
  },
  {
   "cell_type": "code",
   "execution_count": 11,
   "metadata": {
    "ExecuteTime": {
     "end_time": "2019-08-20T15:28:09.671583Z",
     "start_time": "2019-08-20T15:28:09.662608Z"
    }
   },
   "outputs": [],
   "source": [
    "raw2.E2 = raw2.E2.map(mapping)"
   ]
  },
  {
   "cell_type": "code",
   "execution_count": 12,
   "metadata": {
    "ExecuteTime": {
     "end_time": "2019-08-20T15:28:11.768540Z",
     "start_time": "2019-08-20T15:28:11.763596Z"
    }
   },
   "outputs": [],
   "source": [
    "raw2.columns=['Reason_no_acct']"
   ]
  },
  {
   "cell_type": "code",
   "execution_count": 22,
   "metadata": {},
   "outputs": [
    {
     "data": {
      "text/html": [
       "<div>\n",
       "<style scoped>\n",
       "    .dataframe tbody tr th:only-of-type {\n",
       "        vertical-align: middle;\n",
       "    }\n",
       "\n",
       "    .dataframe tbody tr th {\n",
       "        vertical-align: top;\n",
       "    }\n",
       "\n",
       "    .dataframe thead th {\n",
       "        text-align: right;\n",
       "    }\n",
       "</style>\n",
       "<table border=\"1\" class=\"dataframe\">\n",
       "  <thead>\n",
       "    <tr style=\"text-align: right;\">\n",
       "      <th></th>\n",
       "      <th>Reason_no_acct</th>\n",
       "    </tr>\n",
       "  </thead>\n",
       "  <tbody>\n",
       "    <tr>\n",
       "      <th>0</th>\n",
       "      <td>Do not have enough money</td>\n",
       "    </tr>\n",
       "    <tr>\n",
       "      <th>1</th>\n",
       "      <td>Do not have enough money</td>\n",
       "    </tr>\n",
       "    <tr>\n",
       "      <th>2</th>\n",
       "      <td>Do not have enough money</td>\n",
       "    </tr>\n",
       "    <tr>\n",
       "      <th>3</th>\n",
       "      <td>Do not have enough money</td>\n",
       "    </tr>\n",
       "    <tr>\n",
       "      <th>4</th>\n",
       "      <td>Do not have enough money</td>\n",
       "    </tr>\n",
       "  </tbody>\n",
       "</table>\n",
       "</div>"
      ],
      "text/plain": [
       "             Reason_no_acct\n",
       "0  Do not have enough money\n",
       "1  Do not have enough money\n",
       "2  Do not have enough money\n",
       "3  Do not have enough money\n",
       "4  Do not have enough money"
      ]
     },
     "execution_count": 22,
     "metadata": {},
     "output_type": "execute_result"
    }
   ],
   "source": [
    "raw2.head()"
   ]
  },
  {
   "cell_type": "code",
   "execution_count": 23,
   "metadata": {},
   "outputs": [
    {
     "data": {
      "text/plain": [
       "(15503, 1)"
      ]
     },
     "execution_count": 23,
     "metadata": {},
     "output_type": "execute_result"
    }
   ],
   "source": [
    "raw2.shape"
   ]
  },
  {
   "cell_type": "code",
   "execution_count": 13,
   "metadata": {
    "ExecuteTime": {
     "end_time": "2019-08-20T15:29:02.780189Z",
     "start_time": "2019-08-20T15:29:02.752265Z"
    }
   },
   "outputs": [],
   "source": [
    "raw2.to_csv('Reason_no_acct.csv', header=True, index=False)"
   ]
  },
  {
   "cell_type": "markdown",
   "metadata": {},
   "source": [
    "## Derived Feature 2 : \"Extra_Money\""
   ]
  },
  {
   "cell_type": "markdown",
   "metadata": {},
   "source": [
    "The CFS questionnaire also included section on \"**Risk Attitude and Belief**\" wherein the respondents were asked \"If you have surplus money, where will you put the money?\" Responses to this question were grouped together as to the affinity towards either a formal or institutional approach to the management of finances.\n",
    "\n",
    "  - **Formal**\n",
    "    - L101: Deposit / Save in Bank\n",
    "    - L102: Investment (Stocks, Mutual Funds, UITFS)\n",
    "    - L107: Life insurance / Pension Plan\n",
    "    - L108: Education Plan\n",
    "  \n",
    "  - **Informal**\n",
    "    - L104: Keep in piggy bank / for emergency\n",
    "    - L119: Itatabi ko lang sa bahay\n",
    "    - L120: Pitaka\n",
    "    - L121: Sa bulsa\n",
    "    - L124: Itatago lang sa wallet\n",
    "\n",
    "  - **Spend**\n",
    "    - L103: Put up / Invest in business / Buy goods for sale / inventory\n",
    "    - L105: Pay debt\n",
    "    - L106: For tuition\n",
    "    - L109: Buy car / appliances\n",
    "    - L110: Buy house / condo\n",
    "    - L111: Buy Land\n",
    "    - L112: Renovate / House improvements\n",
    "    - L113: Vacation travel – local / abroad\n",
    "    - L114: Shopping\n",
    "    - L115: Help parents / relatives\n",
    "    - L116: Give to charity / church\n",
    "    - L117: Pinapautang\n",
    "    - L118: Microfinance\n",
    "    - L122: For food\n",
    "    - L123: Pambaon ng mga estudyante\n",
    "    - L125: Medical\n",
    "    - L126: Buy tricycle\n",
    "    - L127: Pambayad sa monthly bills\n",
    "    - L128: Panggastos sa araw-araw\n",
    "    - L129: Pambili ng baboy para palakihin\n",
    "    - L130: Pambili ng kalabaw\n",
    "    - L131: Bumili ng baka\n",
    "    - L132: Ibibigay sa anak\n",
    "    - L133: Ibinibili ng gamit ang anak\n",
    "    - L134: Ilaw\n",
    "    - L135: Ibinili ng machine\n",
    "    - L136: Kumakain sa mamahalin restaurant\n",
    "    - L137: Mamamasyal kasama ang anak\n",
    "    - L138: Idinagdag sa puhunan\n",
    "    - L139: Nagpabakod ng lupa\n",
    "    - L140: Pinambili ng mga gamit sa bukid\n",
    "    - L141: Sa panganganak\n",
    "    - L142: Pagpapakabit ng kuryente\n",
    "    - L143: Buy boat\n",
    "    - L144: Buy feeds\n",
    "    - L145: Ibibigay sa simbahan\n",
    "    - L146: Sugal\n",
    "    - L147: Binili ng vitamins\n",
    "    - L148: Buy personal needs\n",
    "    - L149: For allowance\n",
    "    - L150: Buy animals\n",
    "    - L151: Abono\n",
    "    \n",
    "Using the above groupings, a new excel sheet named \"**Extra Money**\" as shown in the code below is created."
   ]
  },
  {
   "cell_type": "code",
   "execution_count": 14,
   "metadata": {
    "ExecuteTime": {
     "end_time": "2019-08-20T15:10:19.871167Z",
     "start_time": "2019-08-20T15:10:16.645621Z"
    }
   },
   "outputs": [],
   "source": [
    "raw = pd.read_excel('New Features.xlsx', sheet_name='Extra_Money')"
   ]
  },
  {
   "cell_type": "markdown",
   "metadata": {},
   "source": [
    "##### Total = Formal + Informal"
   ]
  },
  {
   "cell_type": "code",
   "execution_count": 15,
   "metadata": {
    "ExecuteTime": {
     "end_time": "2019-08-20T15:10:22.332700Z",
     "start_time": "2019-08-20T15:10:22.317741Z"
    },
    "scrolled": false
   },
   "outputs": [
    {
     "data": {
      "text/html": [
       "<div>\n",
       "<style scoped>\n",
       "    .dataframe tbody tr th:only-of-type {\n",
       "        vertical-align: middle;\n",
       "    }\n",
       "\n",
       "    .dataframe tbody tr th {\n",
       "        vertical-align: top;\n",
       "    }\n",
       "\n",
       "    .dataframe thead th {\n",
       "        text-align: right;\n",
       "    }\n",
       "</style>\n",
       "<table border=\"1\" class=\"dataframe\">\n",
       "  <thead>\n",
       "    <tr style=\"text-align: right;\">\n",
       "      <th></th>\n",
       "      <th>L101</th>\n",
       "      <th>L102</th>\n",
       "      <th>L107</th>\n",
       "      <th>L108</th>\n",
       "      <th>Formal</th>\n",
       "      <th>L118</th>\n",
       "      <th>L104</th>\n",
       "      <th>L119</th>\n",
       "      <th>L120</th>\n",
       "      <th>L121</th>\n",
       "      <th>L124</th>\n",
       "      <th>Informal</th>\n",
       "      <th>Total</th>\n",
       "    </tr>\n",
       "  </thead>\n",
       "  <tbody>\n",
       "    <tr>\n",
       "      <th>0</th>\n",
       "      <td>0</td>\n",
       "      <td>0</td>\n",
       "      <td>0</td>\n",
       "      <td>0</td>\n",
       "      <td>0</td>\n",
       "      <td>0</td>\n",
       "      <td>1</td>\n",
       "      <td>0</td>\n",
       "      <td>0</td>\n",
       "      <td>0</td>\n",
       "      <td>0</td>\n",
       "      <td>1</td>\n",
       "      <td>1</td>\n",
       "    </tr>\n",
       "    <tr>\n",
       "      <th>1</th>\n",
       "      <td>0</td>\n",
       "      <td>0</td>\n",
       "      <td>0</td>\n",
       "      <td>0</td>\n",
       "      <td>0</td>\n",
       "      <td>0</td>\n",
       "      <td>0</td>\n",
       "      <td>0</td>\n",
       "      <td>0</td>\n",
       "      <td>0</td>\n",
       "      <td>0</td>\n",
       "      <td>0</td>\n",
       "      <td>0</td>\n",
       "    </tr>\n",
       "    <tr>\n",
       "      <th>2</th>\n",
       "      <td>0</td>\n",
       "      <td>0</td>\n",
       "      <td>0</td>\n",
       "      <td>0</td>\n",
       "      <td>0</td>\n",
       "      <td>0</td>\n",
       "      <td>1</td>\n",
       "      <td>0</td>\n",
       "      <td>0</td>\n",
       "      <td>0</td>\n",
       "      <td>0</td>\n",
       "      <td>1</td>\n",
       "      <td>1</td>\n",
       "    </tr>\n",
       "    <tr>\n",
       "      <th>3</th>\n",
       "      <td>0</td>\n",
       "      <td>0</td>\n",
       "      <td>0</td>\n",
       "      <td>0</td>\n",
       "      <td>0</td>\n",
       "      <td>0</td>\n",
       "      <td>1</td>\n",
       "      <td>0</td>\n",
       "      <td>0</td>\n",
       "      <td>0</td>\n",
       "      <td>0</td>\n",
       "      <td>1</td>\n",
       "      <td>1</td>\n",
       "    </tr>\n",
       "    <tr>\n",
       "      <th>4</th>\n",
       "      <td>0</td>\n",
       "      <td>0</td>\n",
       "      <td>0</td>\n",
       "      <td>0</td>\n",
       "      <td>0</td>\n",
       "      <td>0</td>\n",
       "      <td>1</td>\n",
       "      <td>0</td>\n",
       "      <td>0</td>\n",
       "      <td>0</td>\n",
       "      <td>0</td>\n",
       "      <td>1</td>\n",
       "      <td>1</td>\n",
       "    </tr>\n",
       "  </tbody>\n",
       "</table>\n",
       "</div>"
      ],
      "text/plain": [
       "   L101  L102  L107  L108  Formal  L118  L104  L119  L120  L121  L124  \\\n",
       "0     0     0     0     0       0     0     1     0     0     0     0   \n",
       "1     0     0     0     0       0     0     0     0     0     0     0   \n",
       "2     0     0     0     0       0     0     1     0     0     0     0   \n",
       "3     0     0     0     0       0     0     1     0     0     0     0   \n",
       "4     0     0     0     0       0     0     1     0     0     0     0   \n",
       "\n",
       "   Informal  Total  \n",
       "0         1      1  \n",
       "1         0      0  \n",
       "2         1      1  \n",
       "3         1      1  \n",
       "4         1      1  "
      ]
     },
     "execution_count": 15,
     "metadata": {},
     "output_type": "execute_result"
    }
   ],
   "source": [
    "raw.head()"
   ]
  },
  {
   "cell_type": "code",
   "execution_count": 16,
   "metadata": {
    "ExecuteTime": {
     "end_time": "2019-08-19T07:27:54.157059Z",
     "start_time": "2019-08-19T07:27:54.144810Z"
    },
    "scrolled": true
   },
   "outputs": [
    {
     "data": {
      "text/plain": [
       "Total\n",
       "0     2986\n",
       "1    11037\n",
       "2     1480\n",
       "dtype: int64"
      ]
     },
     "execution_count": 16,
     "metadata": {},
     "output_type": "execute_result"
    }
   ],
   "source": [
    "raw.groupby('Total').size()"
   ]
  },
  {
   "cell_type": "code",
   "execution_count": 17,
   "metadata": {
    "ExecuteTime": {
     "end_time": "2019-08-19T07:37:42.811871Z",
     "start_time": "2019-08-19T07:37:42.804621Z"
    }
   },
   "outputs": [
    {
     "data": {
      "text/plain": [
       "(15503, 13)"
      ]
     },
     "execution_count": 17,
     "metadata": {},
     "output_type": "execute_result"
    }
   ],
   "source": [
    "raw.shape"
   ]
  },
  {
   "cell_type": "markdown",
   "metadata": {},
   "source": [
    "##### Creating a new feature \"Extra_Money\" "
   ]
  },
  {
   "cell_type": "code",
   "execution_count": 18,
   "metadata": {
    "ExecuteTime": {
     "end_time": "2019-08-20T13:01:02.870064Z",
     "start_time": "2019-08-20T13:01:02.864082Z"
    }
   },
   "outputs": [],
   "source": [
    "def get_target(df):\n",
    "    t = []\n",
    "    for i in range(df.shape[0]):\n",
    "        if df.loc[i, 'Total']==0:\n",
    "            t.append('Spend')\n",
    "        if df.loc[i, 'Total']==2:\n",
    "            t.append('Both')\n",
    "        if df.loc[i, 'Total']==1:\n",
    "            if df.loc[i, 'Formal']==1:\n",
    "                t.append('Formal')\n",
    "            else:\n",
    "                t.append('Informal')\n",
    "    return t"
   ]
  },
  {
   "cell_type": "code",
   "execution_count": 19,
   "metadata": {
    "ExecuteTime": {
     "end_time": "2019-08-20T13:01:04.798638Z",
     "start_time": "2019-08-20T13:01:04.399416Z"
    }
   },
   "outputs": [],
   "source": [
    "tar = pd.Series(get_target(raw), name='Target')"
   ]
  },
  {
   "cell_type": "code",
   "execution_count": 20,
   "metadata": {
    "ExecuteTime": {
     "end_time": "2019-08-20T13:01:06.978883Z",
     "start_time": "2019-08-20T13:01:06.949749Z"
    }
   },
   "outputs": [],
   "source": [
    "tar.to_csv('Extra_Money.csv', header=True, index=False)"
   ]
  },
  {
   "cell_type": "code",
   "execution_count": 21,
   "metadata": {
    "ExecuteTime": {
     "end_time": "2019-08-20T15:29:02.780189Z",
     "start_time": "2019-08-20T15:29:02.752265Z"
    }
   },
   "outputs": [],
   "source": [
    "raw2.to_csv('Reason_no_acct.csv', header=True, index=False)"
   ]
  }
 ],
 "metadata": {
  "kernelspec": {
   "display_name": "Python 3",
   "language": "python",
   "name": "python3"
  },
  "language_info": {
   "codemirror_mode": {
    "name": "ipython",
    "version": 3
   },
   "file_extension": ".py",
   "mimetype": "text/x-python",
   "name": "python",
   "nbconvert_exporter": "python",
   "pygments_lexer": "ipython3",
   "version": "3.7.1"
  }
 },
 "nbformat": 4,
 "nbformat_minor": 2
}

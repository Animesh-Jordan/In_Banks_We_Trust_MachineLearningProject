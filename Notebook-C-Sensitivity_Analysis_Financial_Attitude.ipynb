{
 "cells": [
  {
   "cell_type": "markdown",
   "metadata": {},
   "source": [
    "### Notebook C\n",
    "\n",
    "# In Banks We Trust:\n",
    "\n",
    "## Predicting the Propensity to Avail Formal Financial Services in the Philippines\n",
    "### Sensitivity Analysis - Importance of Predictors: Demographics vs. Financial Attitude"
   ]
  },
  {
   "cell_type": "markdown",
   "metadata": {},
   "source": [
    "In this notebook, the model accuracy and importance of demographics and financial attitude as predictors of propensity to save in formal financial channels are determined and compared. This notebook is divided into two parts. Part 1 presents the results of the classifier machine learning models using age and education as the predictors. While part 2 discusses how financial attitudes as behavior explain the target variable. "
   ]
  },
  {
   "cell_type": "code",
   "execution_count": 1,
   "metadata": {
    "ExecuteTime": {
     "end_time": "2019-08-21T11:38:36.305285Z",
     "start_time": "2019-08-21T11:38:34.119441Z"
    }
   },
   "outputs": [],
   "source": [
    "import numpy as np\n",
    "import pandas as pd\n",
    "import matplotlib.pyplot as plt\n",
    "\n",
    "import warnings\n",
    "warnings.filterwarnings(\"ignore\")"
   ]
  },
  {
   "cell_type": "markdown",
   "metadata": {},
   "source": [
    "#### Data Preprocessing"
   ]
  },
  {
   "cell_type": "code",
   "execution_count": 2,
   "metadata": {
    "ExecuteTime": {
     "end_time": "2019-08-21T11:57:18.780330Z",
     "start_time": "2019-08-21T11:57:18.604687Z"
    }
   },
   "outputs": [],
   "source": [
    "raw = pd.read_csv('CFS extracted data.csv')\n",
    "raw.shape\n",
    "#Pre-processing\n",
    "raw['Region'] = raw['Region'].astype('category')\n",
    "\n",
    "# Convert unknown education to median\n",
    "e = []\n",
    "for ed in raw.Education:\n",
    "    if ed==11:    \n",
    "        e.append(np.median(raw.Education))\n",
    "    else:\n",
    "        e.append(ed)\n",
    "raw['Education']=e\n",
    "# Filter only those without Account\n",
    "df = raw.groupby('Deposit_Account').get_group(0)\n",
    "\n",
    "# Filter only those who have no account because they have no extra money\n",
    "df = df[df.Reason_no_acct=='Do not have enough money']\n",
    "\n",
    "# Filter only those who will save/invest in Formal or informal channels if they have extra money\n",
    "df = df[df.Extra_Money!='Spend']\n",
    "df = df[df.Extra_Money!='Both']\n",
    "df = df.drop(['Deposit_Account', 'Reason_no_acct', 'Extra_Money_Informal', 'Extra_Money_Formal', 'Extra_Money_Spend', ], axis=1)"
   ]
  },
  {
   "cell_type": "markdown",
   "metadata": {},
   "source": [
    "## Part 1: Age and Education"
   ]
  },
  {
   "cell_type": "code",
   "execution_count": 12,
   "metadata": {},
   "outputs": [],
   "source": [
    "X2 = df[['Age', 'Education']]"
   ]
  },
  {
   "cell_type": "code",
   "execution_count": 13,
   "metadata": {},
   "outputs": [
    {
     "data": {
      "text/plain": [
       "(array(['Formal', 'Informal'], dtype=object), array([4423, 4357], dtype=int64))"
      ]
     },
     "execution_count": 13,
     "metadata": {},
     "output_type": "execute_result"
    }
   ],
   "source": [
    "# Check if data is balanced\n",
    "np.unique(y, return_counts=True)"
   ]
  },
  {
   "cell_type": "code",
   "execution_count": 14,
   "metadata": {},
   "outputs": [
    {
     "name": "stdout",
     "output_type": "stream",
     "text": [
      "Proportion Chance Criterion = 50.0%\n",
      "Threshold Accuracy = 62.5%\n"
     ]
    }
   ],
   "source": [
    "def get_pcc(y):\n",
    "    nums = np.unique(y, return_counts=True)[1]\n",
    "    return sum((nums/nums.sum())**2)\n",
    "\n",
    "print(\"Proportion Chance Criterion = {:.1f}%\".format(get_pcc(df[target])*100))\n",
    "print(\"Threshold Accuracy = {:.1f}%\".format(1.25*get_pcc(df[target])*100))"
   ]
  },
  {
   "cell_type": "code",
   "execution_count": 15,
   "metadata": {},
   "outputs": [],
   "source": [
    "models2 = ['Decision Tree', 'Random Forest', 'Gradient Boosting']\n",
    "\n",
    "depth_list = [10, 15, 20, 30, 50]\n",
    "estimator_list = [100, 500, 1000]\n",
    "rate_list = [1, 0.5, 0.2, 0.1, 0.05]\n",
    "\n",
    "cl2_params = {\n",
    "    models2[0] : {'max_depth' : depth_list},\n",
    "    models2[1] : {'max_depth' : depth_list, 'n_estimators' : estimator_list},\n",
    "    models2[2] : {'max_depth' : depth_list, 'learning_rate' : rate_list}\n",
    "}\n",
    "\n",
    "cl2 = {\n",
    "    models2[0] : DecisionTreeClassifier(max_features='sqrt', random_state=0),\n",
    "    models2[1] : RandomForestClassifier(max_features='sqrt',\n",
    "                                        n_jobs=-1, random_state=0),\n",
    "    models2[2] : GradientBoostingClassifier(max_features='sqrt', random_state=0)\n",
    "}"
   ]
  },
  {
   "cell_type": "code",
   "execution_count": 16,
   "metadata": {},
   "outputs": [
    {
     "data": {
      "application/vnd.jupyter.widget-view+json": {
       "model_id": "46dd07a62d0f468783d4e51362695bdf",
       "version_major": 2,
       "version_minor": 0
      },
      "text/plain": [
       "HBox(children=(IntProgress(value=0, max=3), HTML(value='')))"
      ]
     },
     "metadata": {},
     "output_type": "display_data"
    },
    {
     "name": "stderr",
     "output_type": "stream",
     "text": [
      "C:\\Users\\Ross\\Anaconda3\\lib\\site-packages\\sklearn\\model_selection\\_split.py:2053: FutureWarning: You should specify a value for 'cv' instead of relying on the default value. The default value will change from 3 to 5 in version 0.22.\n",
      "  warnings.warn(CV_WARNING, FutureWarning)\n",
      "C:\\Users\\Ross\\Anaconda3\\lib\\site-packages\\sklearn\\model_selection\\_split.py:2053: FutureWarning: You should specify a value for 'cv' instead of relying on the default value. The default value will change from 3 to 5 in version 0.22.\n",
      "  warnings.warn(CV_WARNING, FutureWarning)\n",
      "C:\\Users\\Ross\\Anaconda3\\lib\\site-packages\\sklearn\\model_selection\\_split.py:2053: FutureWarning: You should specify a value for 'cv' instead of relying on the default value. The default value will change from 3 to 5 in version 0.22.\n",
      "  warnings.warn(CV_WARNING, FutureWarning)\n"
     ]
    },
    {
     "name": "stdout",
     "output_type": "stream",
     "text": [
      "\n"
     ]
    },
    {
     "data": {
      "text/html": [
       "<div>\n",
       "<style scoped>\n",
       "    .dataframe tbody tr th:only-of-type {\n",
       "        vertical-align: middle;\n",
       "    }\n",
       "\n",
       "    .dataframe tbody tr th {\n",
       "        vertical-align: top;\n",
       "    }\n",
       "\n",
       "    .dataframe thead th {\n",
       "        text-align: right;\n",
       "    }\n",
       "</style>\n",
       "<table border=\"1\" class=\"dataframe\">\n",
       "  <thead>\n",
       "    <tr style=\"text-align: right;\">\n",
       "      <th></th>\n",
       "      <th>ML Method</th>\n",
       "      <th>Test Accuracy</th>\n",
       "      <th>Best Parameters</th>\n",
       "    </tr>\n",
       "  </thead>\n",
       "  <tbody>\n",
       "    <tr>\n",
       "      <th>0</th>\n",
       "      <td>Decision Tree</td>\n",
       "      <td>0.552164</td>\n",
       "      <td>{'max_depth': 10}</td>\n",
       "    </tr>\n",
       "    <tr>\n",
       "      <th>1</th>\n",
       "      <td>Random Forest</td>\n",
       "      <td>0.550342</td>\n",
       "      <td>{'max_depth': 10, 'n_estimators': 1000}</td>\n",
       "    </tr>\n",
       "    <tr>\n",
       "      <th>2</th>\n",
       "      <td>Gradient Boosting</td>\n",
       "      <td>0.551253</td>\n",
       "      <td>{'learning_rate': 0.05, 'max_depth': 15}</td>\n",
       "    </tr>\n",
       "  </tbody>\n",
       "</table>\n",
       "</div>"
      ],
      "text/plain": [
       "           ML Method  Test Accuracy                           Best Parameters\n",
       "0      Decision Tree       0.552164                         {'max_depth': 10}\n",
       "1      Random Forest       0.550342   {'max_depth': 10, 'n_estimators': 1000}\n",
       "2  Gradient Boosting       0.551253  {'learning_rate': 0.05, 'max_depth': 15}"
      ]
     },
     "execution_count": 16,
     "metadata": {},
     "output_type": "execute_result"
    }
   ],
   "source": [
    "X_train, X_test, y_train, y_test = train_test_split(X2, y, stratify=y, \n",
    "                                                    random_state=0)\n",
    "estimator2 = {}\n",
    "for est in tqdm(models2):\n",
    "    gs_cv = GridSearchCV(cl2[est], param_grid=cl2_params[est], n_jobs=-1)\n",
    "    gs_cv.fit(X_train, y_train)\n",
    "    estimator2[est] = gs_cv\n",
    "data = []\n",
    "for est in models2:\n",
    "    data.append({\n",
    "        'ML Method' : est,\n",
    "        'Test Accuracy' : estimator2[est].best_estimator_.score(X_test,\n",
    "                                                                    y_test),\n",
    "        'Best Parameters' : estimator2[est].best_params_\n",
    "    })\n",
    "full_b2 = pd.DataFrame(data, columns=['ML Method', 'Test Accuracy', 'Best Parameters'])\n",
    "full_b2"
   ]
  },
  {
   "cell_type": "code",
   "execution_count": 17,
   "metadata": {},
   "outputs": [],
   "source": [
    "models1_1 = ['kNN', 'Logistic Regression (L2)', 'Linear SVM (L2)',\n",
    "           'Nonlinear SVM (RBF)']\n",
    "\n",
    "kneighbors = range(1, 16)\n",
    "C_list = np.logspace(-5, 5, num=10)\n",
    "gamma_list = np.logspace(-5, 5, num=10)\n",
    "\n",
    "cl1_params = {\n",
    "    models1_1[0] : {'n_neighbors':kneighbors},\n",
    "    models1_1[1] : {'C':C_list},\n",
    "    models1_1[2] : {'C':C_list},\n",
    "    models1_1[3] : {'C':C_list, 'gamma':gamma_list}\n",
    "}\n",
    "\n",
    "cl1 = {\n",
    "    models1_1[0] : KNeighborsClassifier(n_jobs=-1),\n",
    "    models1_1[1] : LogisticRegression(penalty='l2', max_iter=1000, n_jobs=-1, \n",
    "                                    random_state=0),\n",
    "    models1_1[2] : LinearSVC(penalty='l2', max_iter=1000, random_state=0),\n",
    "    models1_1[3] : SVC(kernel='rbf', random_state=0)\n",
    "}"
   ]
  },
  {
   "cell_type": "code",
   "execution_count": 18,
   "metadata": {},
   "outputs": [
    {
     "name": "stderr",
     "output_type": "stream",
     "text": [
      "C:\\Users\\Ross\\Anaconda3\\lib\\site-packages\\sklearn\\preprocessing\\data.py:323: DataConversionWarning: Data with input dtype int64, float64 were all converted to float64 by MinMaxScaler.\n",
      "  return self.partial_fit(X, y)\n"
     ]
    },
    {
     "data": {
      "application/vnd.jupyter.widget-view+json": {
       "model_id": "d800fe701f9d4a319e584436afb8449d",
       "version_major": 2,
       "version_minor": 0
      },
      "text/plain": [
       "HBox(children=(IntProgress(value=0, max=4), HTML(value='')))"
      ]
     },
     "metadata": {},
     "output_type": "display_data"
    },
    {
     "name": "stderr",
     "output_type": "stream",
     "text": [
      "C:\\Users\\Ross\\Anaconda3\\lib\\site-packages\\sklearn\\model_selection\\_split.py:2053: FutureWarning: You should specify a value for 'cv' instead of relying on the default value. The default value will change from 3 to 5 in version 0.22.\n",
      "  warnings.warn(CV_WARNING, FutureWarning)\n",
      "C:\\Users\\Ross\\Anaconda3\\lib\\site-packages\\sklearn\\model_selection\\_split.py:2053: FutureWarning: You should specify a value for 'cv' instead of relying on the default value. The default value will change from 3 to 5 in version 0.22.\n",
      "  warnings.warn(CV_WARNING, FutureWarning)\n",
      "C:\\Users\\Ross\\Anaconda3\\lib\\site-packages\\sklearn\\linear_model\\logistic.py:433: FutureWarning: Default solver will be changed to 'lbfgs' in 0.22. Specify a solver to silence this warning.\n",
      "  FutureWarning)\n",
      "C:\\Users\\Ross\\Anaconda3\\lib\\site-packages\\sklearn\\linear_model\\logistic.py:1297: UserWarning: 'n_jobs' > 1 does not have any effect when 'solver' is set to 'liblinear'. Got 'n_jobs' = 8.\n",
      "  \" = {}.\".format(effective_n_jobs(self.n_jobs)))\n",
      "C:\\Users\\Ross\\Anaconda3\\lib\\site-packages\\sklearn\\model_selection\\_split.py:2053: FutureWarning: You should specify a value for 'cv' instead of relying on the default value. The default value will change from 3 to 5 in version 0.22.\n",
      "  warnings.warn(CV_WARNING, FutureWarning)\n",
      "C:\\Users\\Ross\\Anaconda3\\lib\\site-packages\\sklearn\\model_selection\\_split.py:2053: FutureWarning: You should specify a value for 'cv' instead of relying on the default value. The default value will change from 3 to 5 in version 0.22.\n",
      "  warnings.warn(CV_WARNING, FutureWarning)\n"
     ]
    },
    {
     "name": "stdout",
     "output_type": "stream",
     "text": [
      "\n"
     ]
    },
    {
     "data": {
      "text/html": [
       "<div>\n",
       "<style scoped>\n",
       "    .dataframe tbody tr th:only-of-type {\n",
       "        vertical-align: middle;\n",
       "    }\n",
       "\n",
       "    .dataframe tbody tr th {\n",
       "        vertical-align: top;\n",
       "    }\n",
       "\n",
       "    .dataframe thead th {\n",
       "        text-align: right;\n",
       "    }\n",
       "</style>\n",
       "<table border=\"1\" class=\"dataframe\">\n",
       "  <thead>\n",
       "    <tr style=\"text-align: right;\">\n",
       "      <th></th>\n",
       "      <th>ML Method</th>\n",
       "      <th>Test Accuracy</th>\n",
       "      <th>Best Parameters</th>\n",
       "    </tr>\n",
       "  </thead>\n",
       "  <tbody>\n",
       "    <tr>\n",
       "      <th>0</th>\n",
       "      <td>kNN</td>\n",
       "      <td>0.527107</td>\n",
       "      <td>{'n_neighbors': 13}</td>\n",
       "    </tr>\n",
       "    <tr>\n",
       "      <th>1</th>\n",
       "      <td>Logistic Regression (L2)</td>\n",
       "      <td>0.567654</td>\n",
       "      <td>{'C': 0.021544346900318846}</td>\n",
       "    </tr>\n",
       "    <tr>\n",
       "      <th>2</th>\n",
       "      <td>Linear SVM (L2)</td>\n",
       "      <td>0.564920</td>\n",
       "      <td>{'C': 0.0016681005372000592}</td>\n",
       "    </tr>\n",
       "    <tr>\n",
       "      <th>3</th>\n",
       "      <td>Nonlinear SVM (RBF)</td>\n",
       "      <td>0.560820</td>\n",
       "      <td>{'gamma': 46.41588833612782, 'C': 0.2782559402...</td>\n",
       "    </tr>\n",
       "  </tbody>\n",
       "</table>\n",
       "</div>"
      ],
      "text/plain": [
       "                  ML Method  Test Accuracy  \\\n",
       "0                       kNN       0.527107   \n",
       "1  Logistic Regression (L2)       0.567654   \n",
       "2           Linear SVM (L2)       0.564920   \n",
       "3       Nonlinear SVM (RBF)       0.560820   \n",
       "\n",
       "                                     Best Parameters  \n",
       "0                                {'n_neighbors': 13}  \n",
       "1                        {'C': 0.021544346900318846}  \n",
       "2                       {'C': 0.0016681005372000592}  \n",
       "3  {'gamma': 46.41588833612782, 'C': 0.2782559402...  "
      ]
     },
     "execution_count": 18,
     "metadata": {},
     "output_type": "execute_result"
    }
   ],
   "source": [
    "X_train, X_test, y_train, y_test = train_test_split(X2, y, stratify=y, \n",
    "                                                    random_state=0)\n",
    "scaler = MinMaxScaler().fit(X_train)\n",
    "estimator1_standard = {}\n",
    "for est in tqdm(models1):\n",
    "    gs_cv = RandomizedSearchCV(cl1[est], param_distributions=cl1_params[est], n_jobs=-1)\n",
    "    gs_cv.fit(scaler.transform(X_train), y_train)\n",
    "    estimator1_standard[est] = gs_cv\n",
    "data = []\n",
    "for est in models1:\n",
    "    data.append({\n",
    "        'ML Method' : est,\n",
    "        'Test Accuracy' : estimator1_standard[est].best_estimator_.score(\n",
    "            scaler.transform(X_test), y_test),\n",
    "        'Best Parameters' : estimator1_standard[est].best_params_\n",
    "    })\n",
    "full_a2 = pd.DataFrame(data, columns=['ML Method', 'Test Accuracy', 'Best Parameters'])\n",
    "full_a2"
   ]
  },
  {
   "cell_type": "code",
   "execution_count": 19,
   "metadata": {},
   "outputs": [
    {
     "data": {
      "text/html": [
       "<div>\n",
       "<style scoped>\n",
       "    .dataframe tbody tr th:only-of-type {\n",
       "        vertical-align: middle;\n",
       "    }\n",
       "\n",
       "    .dataframe tbody tr th {\n",
       "        vertical-align: top;\n",
       "    }\n",
       "\n",
       "    .dataframe thead th {\n",
       "        text-align: right;\n",
       "    }\n",
       "</style>\n",
       "<table border=\"1\" class=\"dataframe\">\n",
       "  <thead>\n",
       "    <tr style=\"text-align: right;\">\n",
       "      <th></th>\n",
       "      <th>ML Method</th>\n",
       "      <th>Test Accuracy</th>\n",
       "      <th>Best Parameters</th>\n",
       "    </tr>\n",
       "  </thead>\n",
       "  <tbody>\n",
       "    <tr>\n",
       "      <th>0</th>\n",
       "      <td>kNN</td>\n",
       "      <td>0.527107</td>\n",
       "      <td>{'n_neighbors': 13}</td>\n",
       "    </tr>\n",
       "    <tr>\n",
       "      <th>1</th>\n",
       "      <td>Logistic Regression (L2)</td>\n",
       "      <td>0.567654</td>\n",
       "      <td>{'C': 0.021544346900318846}</td>\n",
       "    </tr>\n",
       "    <tr>\n",
       "      <th>2</th>\n",
       "      <td>Linear SVM (L2)</td>\n",
       "      <td>0.564920</td>\n",
       "      <td>{'C': 0.0016681005372000592}</td>\n",
       "    </tr>\n",
       "    <tr>\n",
       "      <th>3</th>\n",
       "      <td>Nonlinear SVM (RBF)</td>\n",
       "      <td>0.560820</td>\n",
       "      <td>{'gamma': 46.41588833612782, 'C': 0.2782559402...</td>\n",
       "    </tr>\n",
       "    <tr>\n",
       "      <th>4</th>\n",
       "      <td>Decision Tree</td>\n",
       "      <td>0.552164</td>\n",
       "      <td>{'max_depth': 10}</td>\n",
       "    </tr>\n",
       "    <tr>\n",
       "      <th>5</th>\n",
       "      <td>Random Forest</td>\n",
       "      <td>0.550342</td>\n",
       "      <td>{'max_depth': 10, 'n_estimators': 1000}</td>\n",
       "    </tr>\n",
       "    <tr>\n",
       "      <th>6</th>\n",
       "      <td>Gradient Boosting</td>\n",
       "      <td>0.551253</td>\n",
       "      <td>{'learning_rate': 0.05, 'max_depth': 15}</td>\n",
       "    </tr>\n",
       "  </tbody>\n",
       "</table>\n",
       "</div>"
      ],
      "text/plain": [
       "                  ML Method  Test Accuracy  \\\n",
       "0                       kNN       0.527107   \n",
       "1  Logistic Regression (L2)       0.567654   \n",
       "2           Linear SVM (L2)       0.564920   \n",
       "3       Nonlinear SVM (RBF)       0.560820   \n",
       "4             Decision Tree       0.552164   \n",
       "5             Random Forest       0.550342   \n",
       "6         Gradient Boosting       0.551253   \n",
       "\n",
       "                                     Best Parameters  \n",
       "0                                {'n_neighbors': 13}  \n",
       "1                        {'C': 0.021544346900318846}  \n",
       "2                       {'C': 0.0016681005372000592}  \n",
       "3  {'gamma': 46.41588833612782, 'C': 0.2782559402...  \n",
       "4                                  {'max_depth': 10}  \n",
       "5            {'max_depth': 10, 'n_estimators': 1000}  \n",
       "6           {'learning_rate': 0.05, 'max_depth': 15}  "
      ]
     },
     "execution_count": 19,
     "metadata": {},
     "output_type": "execute_result"
    }
   ],
   "source": [
    "full_2 = pd.concat([full_a2, full_b2]).reset_index(drop=True)\n",
    "full_2"
   ]
  },
  {
   "cell_type": "markdown",
   "metadata": {},
   "source": [
    "## Part 2: Financial Attitudes"
   ]
  },
  {
   "cell_type": "markdown",
   "metadata": {},
   "source": [
    "#### Setting Inputs for our ML Model"
   ]
  },
  {
   "cell_type": "code",
   "execution_count": 3,
   "metadata": {
    "ExecuteTime": {
     "end_time": "2019-08-21T11:40:43.203343Z",
     "start_time": "2019-08-21T11:40:43.196360Z"
    }
   },
   "outputs": [],
   "source": [
    "target = 'Extra_Money'\n",
    "X = df[['Saving_Habit',\n",
    "       'Wealth_Unconcious', 'Wealth_Allocation', 'No_Surplus',\n",
    "       'Insufficient_Savings', 'Peer_Pressure', 'Growth_Desire', 'Growth_Able',\n",
    "       'Budget_Difficulty', 'Risk_Tolerant', 'Delayed_Gratification',\n",
    "       'Inheritance']]\n",
    "y = df[target]"
   ]
  },
  {
   "cell_type": "code",
   "execution_count": 4,
   "metadata": {
    "ExecuteTime": {
     "end_time": "2019-08-21T11:40:48.431336Z",
     "start_time": "2019-08-21T11:40:48.410390Z"
    }
   },
   "outputs": [
    {
     "name": "stdout",
     "output_type": "stream",
     "text": [
      "Proportion Chance Criterion = 50.0%\n",
      "Threshold Accuracy = 62.5%\n"
     ]
    }
   ],
   "source": [
    "def get_pcc(y):\n",
    "    nums = np.unique(y, return_counts=True)[1]\n",
    "    return sum((nums/nums.sum())**2)\n",
    "\n",
    "print(\"Proportion Chance Criterion = {:.1f}%\".format(get_pcc(df[target])*100))\n",
    "print(\"Threshold Accuracy = {:.1f}%\".format(1.25*get_pcc(df[target])*100))"
   ]
  },
  {
   "cell_type": "markdown",
   "metadata": {},
   "source": [
    "#### ML Model"
   ]
  },
  {
   "cell_type": "code",
   "execution_count": 5,
   "metadata": {
    "ExecuteTime": {
     "end_time": "2019-08-21T11:40:53.281476Z",
     "start_time": "2019-08-21T11:40:51.633187Z"
    }
   },
   "outputs": [
    {
     "name": "stderr",
     "output_type": "stream",
     "text": [
      "C:\\Users\\Ross\\Anaconda3\\lib\\site-packages\\tqdm\\autonotebook\\__init__.py:14: TqdmExperimentalWarning: Using `tqdm.autonotebook.tqdm` in notebook mode. Use `tqdm.tqdm` instead to force console mode (e.g. in jupyter console)\n",
      "  \" (e.g. in jupyter console)\", TqdmExperimentalWarning)\n"
     ]
    }
   ],
   "source": [
    "# Scaling\n",
    "from sklearn.preprocessing import StandardScaler\n",
    "from sklearn.preprocessing import MinMaxScaler\n",
    "\n",
    "# Classifiers\n",
    "from sklearn.neighbors import KNeighborsClassifier\n",
    "from sklearn.linear_model import LogisticRegression\n",
    "from sklearn.svm import LinearSVC\n",
    "from sklearn.svm import SVC\n",
    "from sklearn.tree import DecisionTreeClassifier\n",
    "from sklearn.ensemble import RandomForestClassifier\n",
    "from sklearn.ensemble import GradientBoostingClassifier\n",
    "\n",
    "# Others\n",
    "from sklearn.model_selection import train_test_split\n",
    "from sklearn.model_selection import GridSearchCV\n",
    "from sklearn.model_selection import RandomizedSearchCV\n",
    "from sklearn.exceptions import ConvergenceWarning\n",
    "from tqdm.autonotebook import tqdm"
   ]
  },
  {
   "cell_type": "markdown",
   "metadata": {},
   "source": [
    "#### Tree Based Classifiers"
   ]
  },
  {
   "cell_type": "code",
   "execution_count": 6,
   "metadata": {
    "ExecuteTime": {
     "end_time": "2019-08-21T11:41:07.428393Z",
     "start_time": "2019-08-21T11:41:07.422407Z"
    }
   },
   "outputs": [],
   "source": [
    "models2 = ['Decision Tree', 'Random Forest', 'Gradient Boosting']\n",
    "\n",
    "depth_list = [10, 15, 20, 30, 50]\n",
    "estimator_list = [100, 500, 1000]\n",
    "rate_list = [1, 0.5, 0.2, 0.1, 0.05]\n",
    "\n",
    "cl2_params = {\n",
    "    models2[0] : {'max_depth' : depth_list},\n",
    "    models2[1] : {'max_depth' : depth_list, 'n_estimators' : estimator_list},\n",
    "    models2[2] : {'max_depth' : depth_list, 'learning_rate' : rate_list}\n",
    "}\n",
    "\n",
    "cl2 = {\n",
    "    models2[0] : DecisionTreeClassifier(max_features='sqrt', random_state=0),\n",
    "    models2[1] : RandomForestClassifier(max_features='sqrt',\n",
    "                                        n_jobs=-1, random_state=0),\n",
    "    models2[2] : GradientBoostingClassifier(max_features='sqrt', random_state=0)\n",
    "}"
   ]
  },
  {
   "cell_type": "code",
   "execution_count": 7,
   "metadata": {
    "ExecuteTime": {
     "end_time": "2019-08-21T11:43:36.212964Z",
     "start_time": "2019-08-21T11:41:10.109237Z"
    },
    "scrolled": true
   },
   "outputs": [
    {
     "data": {
      "application/vnd.jupyter.widget-view+json": {
       "model_id": "cd4365bdd5ab4277bbbcdc46e059d555",
       "version_major": 2,
       "version_minor": 0
      },
      "text/plain": [
       "HBox(children=(IntProgress(value=0, max=3), HTML(value='')))"
      ]
     },
     "metadata": {},
     "output_type": "display_data"
    },
    {
     "name": "stderr",
     "output_type": "stream",
     "text": [
      "C:\\Users\\Ross\\Anaconda3\\lib\\site-packages\\sklearn\\model_selection\\_split.py:2053: FutureWarning: You should specify a value for 'cv' instead of relying on the default value. The default value will change from 3 to 5 in version 0.22.\n",
      "  warnings.warn(CV_WARNING, FutureWarning)\n",
      "C:\\Users\\Ross\\Anaconda3\\lib\\site-packages\\sklearn\\model_selection\\_split.py:2053: FutureWarning: You should specify a value for 'cv' instead of relying on the default value. The default value will change from 3 to 5 in version 0.22.\n",
      "  warnings.warn(CV_WARNING, FutureWarning)\n",
      "C:\\Users\\Ross\\Anaconda3\\lib\\site-packages\\sklearn\\model_selection\\_split.py:2053: FutureWarning: You should specify a value for 'cv' instead of relying on the default value. The default value will change from 3 to 5 in version 0.22.\n",
      "  warnings.warn(CV_WARNING, FutureWarning)\n"
     ]
    },
    {
     "name": "stdout",
     "output_type": "stream",
     "text": [
      "\n"
     ]
    },
    {
     "data": {
      "text/html": [
       "<div>\n",
       "<style scoped>\n",
       "    .dataframe tbody tr th:only-of-type {\n",
       "        vertical-align: middle;\n",
       "    }\n",
       "\n",
       "    .dataframe tbody tr th {\n",
       "        vertical-align: top;\n",
       "    }\n",
       "\n",
       "    .dataframe thead th {\n",
       "        text-align: right;\n",
       "    }\n",
       "</style>\n",
       "<table border=\"1\" class=\"dataframe\">\n",
       "  <thead>\n",
       "    <tr style=\"text-align: right;\">\n",
       "      <th></th>\n",
       "      <th>ML Method</th>\n",
       "      <th>Test Accuracy</th>\n",
       "      <th>Best Parameters</th>\n",
       "    </tr>\n",
       "  </thead>\n",
       "  <tbody>\n",
       "    <tr>\n",
       "      <th>0</th>\n",
       "      <td>Decision Tree</td>\n",
       "      <td>0.577221</td>\n",
       "      <td>{'max_depth': 30}</td>\n",
       "    </tr>\n",
       "    <tr>\n",
       "      <th>1</th>\n",
       "      <td>Random Forest</td>\n",
       "      <td>0.615490</td>\n",
       "      <td>{'max_depth': 15, 'n_estimators': 100}</td>\n",
       "    </tr>\n",
       "    <tr>\n",
       "      <th>2</th>\n",
       "      <td>Gradient Boosting</td>\n",
       "      <td>0.590433</td>\n",
       "      <td>{'learning_rate': 0.1, 'max_depth': 15}</td>\n",
       "    </tr>\n",
       "  </tbody>\n",
       "</table>\n",
       "</div>"
      ],
      "text/plain": [
       "           ML Method  Test Accuracy                          Best Parameters\n",
       "0      Decision Tree       0.577221                        {'max_depth': 30}\n",
       "1      Random Forest       0.615490   {'max_depth': 15, 'n_estimators': 100}\n",
       "2  Gradient Boosting       0.590433  {'learning_rate': 0.1, 'max_depth': 15}"
      ]
     },
     "execution_count": 7,
     "metadata": {},
     "output_type": "execute_result"
    }
   ],
   "source": [
    "X_train, X_test, y_train, y_test = train_test_split(X, y, stratify=y, \n",
    "                                                    random_state=0)\n",
    "estimator2 = {}\n",
    "for est in tqdm(models2):\n",
    "    gs_cv = GridSearchCV(cl2[est], param_grid=cl2_params[est], n_jobs=-1)\n",
    "    gs_cv.fit(X_train, y_train)\n",
    "    estimator2[est] = gs_cv\n",
    "data = []\n",
    "for est in models2:\n",
    "    data.append({\n",
    "        'ML Method' : est,\n",
    "        'Test Accuracy' : estimator2[est].best_estimator_.score(X_test,\n",
    "                                                                    y_test),\n",
    "        'Best Parameters' : estimator2[est].best_params_\n",
    "    })\n",
    "full_b = pd.DataFrame(data, columns=['ML Method', 'Test Accuracy', 'Best Parameters'])\n",
    "full_b"
   ]
  },
  {
   "cell_type": "markdown",
   "metadata": {},
   "source": [
    "####  Non - Tree Based Classifiers (KNN, Logistic Regression (L2) , Support Vector Machines(L2 and RBF) )"
   ]
  },
  {
   "cell_type": "code",
   "execution_count": 8,
   "metadata": {
    "ExecuteTime": {
     "end_time": "2019-08-21T11:43:36.221965Z",
     "start_time": "2019-08-21T11:43:36.214990Z"
    }
   },
   "outputs": [],
   "source": [
    "models1 = ['kNN', 'Logistic Regression (L2)', 'Linear SVM (L2)',\n",
    "           'Nonlinear SVM (RBF)']\n",
    "\n",
    "kneighbors = range(1, 16)\n",
    "C_list = np.logspace(-5, 5, num=10)\n",
    "gamma_list = np.logspace(-5, 5, num=10)\n",
    "\n",
    "cl1_params = {\n",
    "    models1[0] : {'n_neighbors':kneighbors},\n",
    "    models1[1] : {'C':C_list},\n",
    "    models1[2] : {'C':C_list},\n",
    "    models1[3] : {'C':C_list, 'gamma':gamma_list}\n",
    "}\n",
    "\n",
    "cl1 = {\n",
    "    models1[0] : KNeighborsClassifier(n_jobs=-1),\n",
    "    models1[1] : LogisticRegression(penalty='l2', max_iter=1000, n_jobs=-1, \n",
    "                                    random_state=0),\n",
    "    models1[2] : LinearSVC(penalty='l2', max_iter=1000, random_state=0),\n",
    "    models1[3] : SVC(kernel='rbf', random_state=0)\n",
    "}"
   ]
  },
  {
   "cell_type": "code",
   "execution_count": 9,
   "metadata": {
    "ExecuteTime": {
     "end_time": "2019-08-21T11:44:50.031749Z",
     "start_time": "2019-08-21T11:43:36.223934Z"
    },
    "scrolled": true
   },
   "outputs": [
    {
     "name": "stderr",
     "output_type": "stream",
     "text": [
      "C:\\Users\\Ross\\Anaconda3\\lib\\site-packages\\sklearn\\preprocessing\\data.py:323: DataConversionWarning: Data with input dtype int64 were all converted to float64 by MinMaxScaler.\n",
      "  return self.partial_fit(X, y)\n"
     ]
    },
    {
     "data": {
      "application/vnd.jupyter.widget-view+json": {
       "model_id": "7a368a28b4cb464595d3ca3e5fc196ca",
       "version_major": 2,
       "version_minor": 0
      },
      "text/plain": [
       "HBox(children=(IntProgress(value=0, max=4), HTML(value='')))"
      ]
     },
     "metadata": {},
     "output_type": "display_data"
    },
    {
     "name": "stderr",
     "output_type": "stream",
     "text": [
      "C:\\Users\\Ross\\Anaconda3\\lib\\site-packages\\sklearn\\model_selection\\_split.py:2053: FutureWarning: You should specify a value for 'cv' instead of relying on the default value. The default value will change from 3 to 5 in version 0.22.\n",
      "  warnings.warn(CV_WARNING, FutureWarning)\n",
      "C:\\Users\\Ross\\Anaconda3\\lib\\site-packages\\sklearn\\model_selection\\_split.py:2053: FutureWarning: You should specify a value for 'cv' instead of relying on the default value. The default value will change from 3 to 5 in version 0.22.\n",
      "  warnings.warn(CV_WARNING, FutureWarning)\n",
      "C:\\Users\\Ross\\Anaconda3\\lib\\site-packages\\sklearn\\linear_model\\logistic.py:433: FutureWarning: Default solver will be changed to 'lbfgs' in 0.22. Specify a solver to silence this warning.\n",
      "  FutureWarning)\n",
      "C:\\Users\\Ross\\Anaconda3\\lib\\site-packages\\sklearn\\linear_model\\logistic.py:1297: UserWarning: 'n_jobs' > 1 does not have any effect when 'solver' is set to 'liblinear'. Got 'n_jobs' = 8.\n",
      "  \" = {}.\".format(effective_n_jobs(self.n_jobs)))\n",
      "C:\\Users\\Ross\\Anaconda3\\lib\\site-packages\\sklearn\\model_selection\\_split.py:2053: FutureWarning: You should specify a value for 'cv' instead of relying on the default value. The default value will change from 3 to 5 in version 0.22.\n",
      "  warnings.warn(CV_WARNING, FutureWarning)\n",
      "C:\\Users\\Ross\\Anaconda3\\lib\\site-packages\\sklearn\\model_selection\\_split.py:2053: FutureWarning: You should specify a value for 'cv' instead of relying on the default value. The default value will change from 3 to 5 in version 0.22.\n",
      "  warnings.warn(CV_WARNING, FutureWarning)\n"
     ]
    },
    {
     "name": "stdout",
     "output_type": "stream",
     "text": [
      "\n"
     ]
    },
    {
     "data": {
      "text/html": [
       "<div>\n",
       "<style scoped>\n",
       "    .dataframe tbody tr th:only-of-type {\n",
       "        vertical-align: middle;\n",
       "    }\n",
       "\n",
       "    .dataframe tbody tr th {\n",
       "        vertical-align: top;\n",
       "    }\n",
       "\n",
       "    .dataframe thead th {\n",
       "        text-align: right;\n",
       "    }\n",
       "</style>\n",
       "<table border=\"1\" class=\"dataframe\">\n",
       "  <thead>\n",
       "    <tr style=\"text-align: right;\">\n",
       "      <th></th>\n",
       "      <th>ML Method</th>\n",
       "      <th>Test Accuracy</th>\n",
       "      <th>Best Parameters</th>\n",
       "    </tr>\n",
       "  </thead>\n",
       "  <tbody>\n",
       "    <tr>\n",
       "      <th>0</th>\n",
       "      <td>kNN</td>\n",
       "      <td>0.596355</td>\n",
       "      <td>{'n_neighbors': 13}</td>\n",
       "    </tr>\n",
       "    <tr>\n",
       "      <th>1</th>\n",
       "      <td>Logistic Regression (L2)</td>\n",
       "      <td>0.568565</td>\n",
       "      <td>{'C': 0.2782559402207126}</td>\n",
       "    </tr>\n",
       "    <tr>\n",
       "      <th>2</th>\n",
       "      <td>Linear SVM (L2)</td>\n",
       "      <td>0.569932</td>\n",
       "      <td>{'C': 0.021544346900318846}</td>\n",
       "    </tr>\n",
       "    <tr>\n",
       "      <th>3</th>\n",
       "      <td>Nonlinear SVM (RBF)</td>\n",
       "      <td>0.613212</td>\n",
       "      <td>{'gamma': 0.2782559402207126, 'C': 46.41588833...</td>\n",
       "    </tr>\n",
       "  </tbody>\n",
       "</table>\n",
       "</div>"
      ],
      "text/plain": [
       "                  ML Method  Test Accuracy  \\\n",
       "0                       kNN       0.596355   \n",
       "1  Logistic Regression (L2)       0.568565   \n",
       "2           Linear SVM (L2)       0.569932   \n",
       "3       Nonlinear SVM (RBF)       0.613212   \n",
       "\n",
       "                                     Best Parameters  \n",
       "0                                {'n_neighbors': 13}  \n",
       "1                          {'C': 0.2782559402207126}  \n",
       "2                        {'C': 0.021544346900318846}  \n",
       "3  {'gamma': 0.2782559402207126, 'C': 46.41588833...  "
      ]
     },
     "execution_count": 9,
     "metadata": {},
     "output_type": "execute_result"
    }
   ],
   "source": [
    "X_train, X_test, y_train, y_test = train_test_split(X, y, stratify=y, \n",
    "                                                    random_state=0)\n",
    "scaler = MinMaxScaler().fit(X_train)\n",
    "estimator1_standard = {}\n",
    "for est in tqdm(models1):\n",
    "    gs_cv = RandomizedSearchCV(cl1[est], param_distributions=cl1_params[est], n_jobs=-1)\n",
    "    gs_cv.fit(scaler.transform(X_train), y_train)\n",
    "    estimator1_standard[est] = gs_cv\n",
    "data = []\n",
    "for est in models1:\n",
    "    data.append({\n",
    "        'ML Method' : est,\n",
    "        'Test Accuracy' : estimator1_standard[est].best_estimator_.score(\n",
    "            scaler.transform(X_test), y_test),\n",
    "        'Best Parameters' : estimator1_standard[est].best_params_\n",
    "    })\n",
    "full_a = pd.DataFrame(data, columns=['ML Method', 'Test Accuracy', 'Best Parameters'])\n",
    "full_a"
   ]
  },
  {
   "cell_type": "markdown",
   "metadata": {},
   "source": [
    "#### Summarizing the results of the classifiers"
   ]
  },
  {
   "cell_type": "code",
   "execution_count": 10,
   "metadata": {
    "ExecuteTime": {
     "end_time": "2019-08-21T11:46:42.210368Z",
     "start_time": "2019-08-21T11:46:42.195386Z"
    },
    "scrolled": false
   },
   "outputs": [
    {
     "data": {
      "text/html": [
       "<div>\n",
       "<style scoped>\n",
       "    .dataframe tbody tr th:only-of-type {\n",
       "        vertical-align: middle;\n",
       "    }\n",
       "\n",
       "    .dataframe tbody tr th {\n",
       "        vertical-align: top;\n",
       "    }\n",
       "\n",
       "    .dataframe thead th {\n",
       "        text-align: right;\n",
       "    }\n",
       "</style>\n",
       "<table border=\"1\" class=\"dataframe\">\n",
       "  <thead>\n",
       "    <tr style=\"text-align: right;\">\n",
       "      <th></th>\n",
       "      <th>ML Method</th>\n",
       "      <th>Test Accuracy</th>\n",
       "      <th>Best Parameters</th>\n",
       "    </tr>\n",
       "  </thead>\n",
       "  <tbody>\n",
       "    <tr>\n",
       "      <th>0</th>\n",
       "      <td>kNN</td>\n",
       "      <td>0.596355</td>\n",
       "      <td>{'n_neighbors': 13}</td>\n",
       "    </tr>\n",
       "    <tr>\n",
       "      <th>1</th>\n",
       "      <td>Logistic Regression (L2)</td>\n",
       "      <td>0.568565</td>\n",
       "      <td>{'C': 0.2782559402207126}</td>\n",
       "    </tr>\n",
       "    <tr>\n",
       "      <th>2</th>\n",
       "      <td>Linear SVM (L2)</td>\n",
       "      <td>0.569932</td>\n",
       "      <td>{'C': 0.021544346900318846}</td>\n",
       "    </tr>\n",
       "    <tr>\n",
       "      <th>3</th>\n",
       "      <td>Nonlinear SVM (RBF)</td>\n",
       "      <td>0.613212</td>\n",
       "      <td>{'gamma': 0.2782559402207126, 'C': 46.41588833...</td>\n",
       "    </tr>\n",
       "    <tr>\n",
       "      <th>4</th>\n",
       "      <td>Decision Tree</td>\n",
       "      <td>0.577221</td>\n",
       "      <td>{'max_depth': 30}</td>\n",
       "    </tr>\n",
       "    <tr>\n",
       "      <th>5</th>\n",
       "      <td>Random Forest</td>\n",
       "      <td>0.615490</td>\n",
       "      <td>{'max_depth': 15, 'n_estimators': 100}</td>\n",
       "    </tr>\n",
       "    <tr>\n",
       "      <th>6</th>\n",
       "      <td>Gradient Boosting</td>\n",
       "      <td>0.590433</td>\n",
       "      <td>{'learning_rate': 0.1, 'max_depth': 15}</td>\n",
       "    </tr>\n",
       "  </tbody>\n",
       "</table>\n",
       "</div>"
      ],
      "text/plain": [
       "                  ML Method  Test Accuracy  \\\n",
       "0                       kNN       0.596355   \n",
       "1  Logistic Regression (L2)       0.568565   \n",
       "2           Linear SVM (L2)       0.569932   \n",
       "3       Nonlinear SVM (RBF)       0.613212   \n",
       "4             Decision Tree       0.577221   \n",
       "5             Random Forest       0.615490   \n",
       "6         Gradient Boosting       0.590433   \n",
       "\n",
       "                                     Best Parameters  \n",
       "0                                {'n_neighbors': 13}  \n",
       "1                          {'C': 0.2782559402207126}  \n",
       "2                        {'C': 0.021544346900318846}  \n",
       "3  {'gamma': 0.2782559402207126, 'C': 46.41588833...  \n",
       "4                                  {'max_depth': 30}  \n",
       "5             {'max_depth': 15, 'n_estimators': 100}  \n",
       "6            {'learning_rate': 0.1, 'max_depth': 15}  "
      ]
     },
     "execution_count": 10,
     "metadata": {},
     "output_type": "execute_result"
    }
   ],
   "source": [
    "full = pd.concat([full_a, full_b]).reset_index(drop=True)\n",
    "full"
   ]
  },
  {
   "cell_type": "markdown",
   "metadata": {},
   "source": [
    "Selecting Random Forest as our Classifier owing to its highest accuracy. The attained accuracy is slightly less than our threshold of 62%"
   ]
  },
  {
   "cell_type": "markdown",
   "metadata": {},
   "source": [
    "#### Feature Importance"
   ]
  },
  {
   "cell_type": "code",
   "execution_count": 11,
   "metadata": {
    "ExecuteTime": {
     "end_time": "2019-08-21T11:46:46.627238Z",
     "start_time": "2019-08-21T11:46:46.301015Z"
    }
   },
   "outputs": [
    {
     "data": {
      "image/png": "[encoded data removed]",
      "text/plain": [
       "<Figure size 1080x576 with 1 Axes>"
      ]
     },
     "metadata": {
      "needs_background": "light"
     },
     "output_type": "display_data"
    }
   ],
   "source": [
    "best = full['ML Method'][full['Test Accuracy'].idxmax()]\n",
    "mdl = estimator2[best].best_estimator_\n",
    "ranks = sorted(list(zip(mdl.feature_importances_, X.columns)), key=lambda x: -x[0])\n",
    "plt.figure(figsize=(15,8))\n",
    "plt.bar(list(zip(*ranks))[1] ,list(zip(*ranks))[0])\n",
    "plt.xticks(rotation=90);"
   ]
  },
  {
   "cell_type": "markdown",
   "metadata": {},
   "source": [
    "Note that the details of all the above features have been explained in the main notebook, kindly refer to it for more details"
   ]
  },
  {
   "cell_type": "markdown",
   "metadata": {},
   "source": [
    "## Summary\n",
    "\n",
    "**Age and Educational Attainment**\n",
    "\n",
    "A 56.7% Test Accuracy was achieved using the Logistic (L2) Regression, while a 55% accuracy was achieved using the Random Forest Machine Learning Model in taking Age and Education as a subset of the validation dataset.\n",
    "\n",
    "**Financial Attitude**\n",
    "\n",
    "The Random Forest model results in an accuracy of 61.5% Test Accuracy for features included under Financial Attitude. Highest contributing features are Budgeting Capability, Desire to Grow personal wealth, and the preference not to think about money."
   ]
  }
 ],
 "metadata": {
  "kernelspec": {
   "display_name": "Python 3",
   "language": "python",
   "name": "python3"
  },
  "language_info": {
   "codemirror_mode": {
    "name": "ipython",
    "version": 3
   },
   "file_extension": ".py",
   "mimetype": "text/x-python",
   "name": "python",
   "nbconvert_exporter": "python",
   "pygments_lexer": "ipython3",
   "version": "3.7.1"
  }
 },
 "nbformat": 4,
 "nbformat_minor": 2
}
